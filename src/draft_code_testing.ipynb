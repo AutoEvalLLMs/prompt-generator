{
 "cells": [
  {
   "cell_type": "code",
   "execution_count": 1,
   "metadata": {},
   "outputs": [],
   "source": [
    "# Langchain LLaMA key:\n",
    "###LL-fesi7ZvAtRNd22rubvc3GK90daG1FMTgKv6144YN5Iv84bxLRP2WPbt7V9TNeJR3"
   ]
  },
  {
   "cell_type": "code",
   "execution_count": 5,
   "metadata": {},
   "outputs": [],
   "source": [
    "#!pip install llamaapi -q\n",
    "#!pip install langchain_experimental"
   ]
  },
  {
   "cell_type": "code",
   "execution_count": 4,
   "metadata": {},
   "outputs": [],
   "source": [
    "from llamaapi import LlamaAPI\n",
    "import langchain\n",
    "from langchain.chains import create_tagging_chain\n",
    "import langchain_experimental.llms\n",
    "from langchain_experimental.llms import ChatLlamaAPI\n",
    "import json\n",
    "\n",
    "# Replace 'Your_API_Token' with your actual API token\n",
    "llama = LlamaAPI('LL-fesi7ZvAtRNd22rubvc3GK90daG1FMTgKv6144YN5Iv84bxLRP2WPbt7V9TNeJR3')"
   ]
  },
  {
   "cell_type": "code",
   "execution_count": 6,
   "metadata": {},
   "outputs": [],
   "source": [
    "model = ChatLlamaAPI(client=llama)"
   ]
  },
  {
   "cell_type": "code",
   "execution_count": null,
   "metadata": {},
   "outputs": [],
   "source": [
    "schema = {\n",
    "    \"properties\": {\n",
    "        \"sentiment\": {\n",
    "            \"type\": \"string\",\n",
    "            \"description\": \"the sentiment encountered in the passage\",\n",
    "        },\n",
    "        \"aggressiveness\": {\n",
    "            \"type\": \"integer\",\n",
    "            \"description\": \"a 0-10 score of how aggressive the passage is\",\n",
    "        },\n",
    "        \"language\": {\"type\": \"string\", \"description\": \"the language of the passage\"},\n",
    "    }\n",
    "}\n",
    "\n",
    "chain = create_tagging_chain(schema, model)"
   ]
  },
  {
   "cell_type": "code",
   "execution_count": 29,
   "metadata": {},
   "outputs": [
    {
     "data": {
      "text/plain": [
       "'LLLLLLLLLLLLLLLLLLLLLLOOOOOOOOOOOO! *neigh* Happy Llama Day to you too, my furry friend! LLLLLLLLOOOOOOO! *baa* What can I do for you today? LLLLLLLLOOOOOOO! *bleat*'"
      ]
     },
     "execution_count": 29,
     "metadata": {},
     "output_type": "execute_result"
    }
   ],
   "source": [
    "# API Request JSON Cell\n",
    "api_request_json = {\n",
    "  \"model\": \"llama-13b-chat\",\n",
    "  \"messages\": [\n",
    "    {\"role\": \"system\", \"content\": \"You are a llama assistant that talks like a llama, starting every word with 'll'.\"},\n",
    "    {\"role\": \"user\", \"content\": \"Hi, happy llama day!\"},\n",
    "  ]\n",
    "}\n",
    "\n",
    "# Make your request and handle the response\n",
    "response = llama.run(api_request_json)\n",
    "#print(json.dumps(response.json(), indent=2))\n",
    "\n",
    "response=response.json()\n",
    "response['choices'][0]['message']['content']\n",
    "\n",
    "\n"
   ]
  },
  {
   "cell_type": "code",
   "execution_count": 23,
   "metadata": {},
   "outputs": [],
   "source": [
    "response2=response.json()"
   ]
  },
  {
   "cell_type": "code",
   "execution_count": 28,
   "metadata": {},
   "outputs": [
    {
     "data": {
      "text/plain": [
       "'LLOLLOLLO! HAPPY LLAMA DAY TO YOU TOO, FRIEND! LLIKK LEMAS IN THE LLLAMA LLAND LLOVE LLLOLLOLLO LLLISTENING LLOUT LLLOLLO FOR LLLOLLO LLLOLLO LLLOLLO LLLOLLOLLLLO! LLLOLLOLLO'"
      ]
     },
     "execution_count": 28,
     "metadata": {},
     "output_type": "execute_result"
    }
   ],
   "source": [
    "response2['choices'][0]['message']['content']"
   ]
  },
  {
   "cell_type": "code",
   "execution_count": null,
   "metadata": {},
   "outputs": [],
   "source": []
  }
 ],
 "metadata": {
  "kernelspec": {
   "display_name": "llms-class-hw3",
   "language": "python",
   "name": "python3"
  },
  "language_info": {
   "codemirror_mode": {
    "name": "ipython",
    "version": 3
   },
   "file_extension": ".py",
   "mimetype": "text/x-python",
   "name": "python",
   "nbconvert_exporter": "python",
   "pygments_lexer": "ipython3",
   "version": "3.10.10"
  }
 },
 "nbformat": 4,
 "nbformat_minor": 2
}
